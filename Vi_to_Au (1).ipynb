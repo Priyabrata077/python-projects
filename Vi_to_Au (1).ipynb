{
  "nbformat": 4,
  "nbformat_minor": 0,
  "metadata": {
    "colab": {
      "provenance": []
    },
    "kernelspec": {
      "name": "python3",
      "display_name": "Python 3"
    },
    "language_info": {
      "name": "python"
    }
  },
  "cells": [
    {
      "cell_type": "code",
      "source": [
        "!pip install pytube"
      ],
      "metadata": {
        "colab": {
          "base_uri": "https://localhost:8080/"
        },
        "id": "Eho8fedJrvNS",
        "outputId": "d631726e-7907-4a47-a99c-da4a00db2c8e"
      },
      "execution_count": 2,
      "outputs": [
        {
          "output_type": "stream",
          "name": "stdout",
          "text": [
            "Collecting pytube\n",
            "  Downloading pytube-15.0.0-py3-none-any.whl.metadata (5.0 kB)\n",
            "Downloading pytube-15.0.0-py3-none-any.whl (57 kB)\n",
            "\u001b[?25l   \u001b[90m━━━━━━━━━━━━━━━━━━━━━━━━━━━━━━━━━━━━━━━━\u001b[0m \u001b[32m0.0/57.6 kB\u001b[0m \u001b[31m?\u001b[0m eta \u001b[36m-:--:--\u001b[0m\r\u001b[2K   \u001b[90m━━━━━━━━━━━━━━━━━━━━━━━━━━━━━━━━━━━━━━━━\u001b[0m \u001b[32m57.6/57.6 kB\u001b[0m \u001b[31m2.1 MB/s\u001b[0m eta \u001b[36m0:00:00\u001b[0m\n",
            "\u001b[?25hInstalling collected packages: pytube\n",
            "Successfully installed pytube-15.0.0\n"
          ]
        }
      ]
    },
    {
      "cell_type": "code",
      "execution_count": 3,
      "metadata": {
        "id": "5ICui-gHrYx2"
      },
      "outputs": [],
      "source": [
        "from pytube import YouTube\n",
        "import pytube\n",
        "import os"
      ]
    },
    {
      "cell_type": "code",
      "source": [
        "def main():\n",
        "    video_url = input('Enter YouTube video URL: ')\n",
        "\n",
        "    if os.name == 'nt':\n",
        "        path = os.getcwd() + '\\\\'\n",
        "    else:\n",
        "        path = os.getcwd() + '/'\n",
        "\n",
        "    name = pytube.extract.video_id(video_url)\n",
        "    YouTube(video_url).streams.filter(only_audio=True).first().download(filename=name)\n",
        "    location = path + name + '.mp4'\n",
        "    renametomp3 = path + name + '.mp3'\n",
        "\n",
        "    if os.name == 'nt':\n",
        "        os.system('ren {0} {1}'. format(location, renametomp3))\n",
        "    else:\n",
        "        os.system('mv {0} {1}'. format(location, renametomp3))\n",
        "\n",
        "if __name__ == '__main__':\n",
        "    main()"
      ],
      "metadata": {
        "id": "QXuP8r8-sz2R"
      },
      "execution_count": null,
      "outputs": []
    }
  ]
}