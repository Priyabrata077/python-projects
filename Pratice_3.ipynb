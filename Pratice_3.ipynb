{
  "nbformat": 4,
  "nbformat_minor": 0,
  "metadata": {
    "colab": {
      "provenance": []
    },
    "kernelspec": {
      "name": "python3",
      "display_name": "Python 3"
    },
    "language_info": {
      "name": "python"
    }
  },
  "cells": [
    {
      "cell_type": "markdown",
      "source": [
        "Write a Python program to check prime number."
      ],
      "metadata": {
        "id": "Hs-21eEUx_OV"
      }
    },
    {
      "cell_type": "code",
      "source": [
        "num = int(input(\"Enter a number :\"))\n",
        "\n",
        "#define a flag variable.\n",
        "flag = False\n",
        "\n",
        "if num == 1:\n",
        "  print(f\"{num}, is not a prime number\")\n",
        "elif num > 1:\n",
        "  for i in range(2, num):\n",
        "    if (num % i) == 0:\n",
        "      flag = True\n",
        "      break\n",
        "if flag:\n",
        "  print(f\"{num}, is not a prime number\")\n",
        "else:\n",
        "  print(f\"{num}, is a prime number\")"
      ],
      "metadata": {
        "colab": {
          "base_uri": "https://localhost:8080/"
        },
        "id": "JLMav8AKx81d",
        "outputId": "c977dc83-b23a-43a8-96ff-fc4383f2a55c"
      },
      "execution_count": null,
      "outputs": [
        {
          "output_type": "stream",
          "name": "stdout",
          "text": [
            "Enter a number :25\n",
            "25, is not a prime number\n"
          ]
        }
      ]
    },
    {
      "cell_type": "markdown",
      "source": [
        "Write a python program to print all prime number in an interval of 1-10."
      ],
      "metadata": {
        "id": "zAozgSTjzb7x"
      }
    },
    {
      "cell_type": "code",
      "execution_count": null,
      "metadata": {
        "colab": {
          "base_uri": "https://localhost:8080/"
        },
        "id": "-LDY7pPcxzId",
        "outputId": "8934eba2-84d7-4500-a5d1-99d82a961b48"
      },
      "outputs": [
        {
          "output_type": "stream",
          "name": "stdout",
          "text": [
            "Prime number between 1 and 50 are: \n",
            "2\n",
            "3\n",
            "5\n",
            "7\n",
            "11\n",
            "13\n",
            "17\n",
            "19\n",
            "23\n",
            "29\n",
            "31\n",
            "37\n",
            "41\n",
            "43\n",
            "47\n"
          ]
        }
      ],
      "source": [
        "lower = 1\n",
        "upper = 50\n",
        "print(\"Prime number between\", lower, \"and\", upper, \"are: \")\n",
        "\n",
        "for num in range(lower, upper +1):\n",
        "  #all prime numbers are grater than 1\n",
        "  if num > 1:\n",
        "    for i in range(2, num):\n",
        "      if (num % i) == 0:\n",
        "        break\n",
        "    else:\n",
        "      print(num)"
      ]
    },
    {
      "cell_type": "markdown",
      "source": [
        "Write a python program to find the factorial of a number."
      ],
      "metadata": {
        "id": "o9nN1lda0hv7"
      }
    },
    {
      "cell_type": "code",
      "source": [
        " num = int(input(\"Enter a number \"))\n",
        "factorial =1\n",
        "if num < 0:\n",
        "  print(\"Sorry, factorial does not exist for negative numbers\")\n",
        "elif num == 0:\n",
        "  print(\"The factorial of 0 is 1\")\n",
        "else:\n",
        "  for i in range(1, num+1):\n",
        "    factorial = factorial*i\n",
        "  print(\"The factorial of\", num, \"is\", factorial)"
      ],
      "metadata": {
        "colab": {
          "base_uri": "https://localhost:8080/"
        },
        "id": "RNe-tyRJ0ph-",
        "outputId": "1cf020ef-5a1a-4529-f82e-d8189aecbdaf"
      },
      "execution_count": null,
      "outputs": [
        {
          "output_type": "stream",
          "name": "stdout",
          "text": [
            "Enter a number 15\n",
            "The factorial of 15 is 1307674368000\n"
          ]
        }
      ]
    },
    {
      "cell_type": "markdown",
      "source": [
        "Write a program to display the multiplication table."
      ],
      "metadata": {
        "id": "rcfnDe7X1YKC"
      }
    },
    {
      "cell_type": "code",
      "source": [
        "num = int(input(\"Display multiplication table of :\"))\n",
        "for i in range(1, 11):\n",
        "  print(num, 'x', i, '=', num*i)"
      ],
      "metadata": {
        "colab": {
          "base_uri": "https://localhost:8080/"
        },
        "id": "0MW6xqd_1hxH",
        "outputId": "3059032d-405f-4252-e3c3-d08efb040f8d"
      },
      "execution_count": null,
      "outputs": [
        {
          "output_type": "stream",
          "name": "stdout",
          "text": [
            "Display multiplication table of :77\n",
            "77 x 1 = 77\n",
            "77 x 2 = 154\n",
            "77 x 3 = 231\n",
            "77 x 4 = 308\n",
            "77 x 5 = 385\n",
            "77 x 6 = 462\n",
            "77 x 7 = 539\n",
            "77 x 8 = 616\n",
            "77 x 9 = 693\n",
            "77 x 10 = 770\n"
          ]
        }
      ]
    },
    {
      "cell_type": "markdown",
      "source": [
        "Write a program to print the fibonacci sequence."
      ],
      "metadata": {
        "id": "Xr6C1maz10O0"
      }
    },
    {
      "cell_type": "code",
      "source": [
        "nterms = int(input(\"How many terms? \"))\n",
        "# first two terms\n",
        "n1, n2 = 0, 1\n",
        "count = 0\n",
        "#check if the number of terms is valid\n",
        "if nterms <=0:\n",
        "  print(\"Please enter a positive integer\")\n",
        "elif nterms == 1:\n",
        "  print(\"Fibonacci sequence upto\", nterms, \":\")\n",
        "  print(n1)\n",
        "else:\n",
        "  print(\"Fibonacci sequence:\")\n",
        "  while count < nterms:\n",
        "    print(n1)\n",
        "    nth = n1 + n2\n",
        "    #update values\n",
        "    n1 = n2\n",
        "    n2 = nth\n",
        "    count += 1\n"
      ],
      "metadata": {
        "colab": {
          "base_uri": "https://localhost:8080/"
        },
        "id": "79w0DAoV2AaU",
        "outputId": "4431f75e-5895-43a9-ec45-a05383816b51"
      },
      "execution_count": null,
      "outputs": [
        {
          "output_type": "stream",
          "name": "stdout",
          "text": [
            "How many terms? 10\n",
            "Fibonacci sequence:\n",
            "0\n",
            "1\n",
            "1\n",
            "2\n",
            "3\n",
            "5\n",
            "8\n",
            "13\n",
            "21\n",
            "34\n"
          ]
        }
      ]
    },
    {
      "cell_type": "markdown",
      "source": [
        "Write a program to check amstrong number."
      ],
      "metadata": {
        "id": "8PPDeHhH2wg4"
      }
    },
    {
      "cell_type": "code",
      "source": [
        "num = int(input(\"Enter a number : \"))\n",
        "\n",
        "# Calculate the number of degits in num\n",
        "num_str = str(num)\n",
        "num_digits = len(num_str)\n",
        "\n",
        "#Initialize variables\n",
        "sum_of_powers = 0\n",
        "temp_num = num\n",
        "\n",
        "while temp_num > 0:\n",
        "  digit = temp_num % 10\n",
        "  sum_of_powers += digit ** num_digits\n",
        "  temp_num //= 10\n",
        "\n",
        "if sum_of_powers == num:\n",
        "  print(f\"{num} is an Armstrong number\")\n",
        "else:\n",
        "  print(f\"{num} is not an Armstrong number\")"
      ],
      "metadata": {
        "colab": {
          "base_uri": "https://localhost:8080/"
        },
        "id": "pgfzvyNMEQnP",
        "outputId": "e700daa1-1e0a-4b06-bfef-11aaf474387d"
      },
      "execution_count": 4,
      "outputs": [
        {
          "output_type": "stream",
          "name": "stdout",
          "text": [
            "Enter a number : 87654567\n",
            "87654567 is not an Armstrong number\n"
          ]
        }
      ]
    }
  ]
}