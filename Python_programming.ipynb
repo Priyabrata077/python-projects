{
  "nbformat": 4,
  "nbformat_minor": 0,
  "metadata": {
    "colab": {
      "provenance": []
    },
    "kernelspec": {
      "name": "python3",
      "display_name": "Python 3"
    },
    "language_info": {
      "name": "python"
    }
  },
  "cells": [
    {
      "cell_type": "code",
      "execution_count": 1,
      "metadata": {
        "colab": {
          "base_uri": "https://localhost:8080/"
        },
        "id": "MRa6NXeCDxdL",
        "outputId": "57e53bea-9c9c-44dc-bf9f-0f7d86d4c3c7"
      },
      "outputs": [
        {
          "output_type": "stream",
          "name": "stdout",
          "text": [
            "Hello Priyabrata\n"
          ]
        }
      ],
      "source": [
        "print(\"Hello Priyabrata\")"
      ]
    },
    {
      "cell_type": "markdown",
      "source": [
        "Write a program to do arthmetical operation addition"
      ],
      "metadata": {
        "id": "6l7yl2haEGji"
      }
    },
    {
      "cell_type": "code",
      "source": [
        "#Addition\n",
        "num1= float(input(\"Enter first number:\"))\n",
        "num2= float(input(\"Enter second number:\"))\n",
        "sum= num1+num2\n",
        "print(f\"sum: {num1} + {num2} ={sum}\")"
      ],
      "metadata": {
        "colab": {
          "base_uri": "https://localhost:8080/"
        },
        "id": "CrQ5WzN8ERa2",
        "outputId": "33493ed8-2fdd-44a0-dcba-19d478d8cb2e"
      },
      "execution_count": 2,
      "outputs": [
        {
          "output_type": "stream",
          "name": "stdout",
          "text": [
            "Enter first number:23\n",
            "Enter second number:34\n",
            "sum: 23.0 + 34.0 =57.0\n"
          ]
        }
      ]
    },
    {
      "cell_type": "code",
      "source": [
        "#Division\n",
        "num1= float(input(\"Enter first number:\"))\n",
        "num2= float(input(\"Enter second number:\"))\n",
        "div= num1/num2\n",
        "print(f\"Division: {num1} / {num2} ={div}\")"
      ],
      "metadata": {
        "colab": {
          "base_uri": "https://localhost:8080/"
        },
        "id": "68MNPx65FAwq",
        "outputId": "f2c6dad3-0207-4d22-9b42-ab08ece10020"
      },
      "execution_count": 3,
      "outputs": [
        {
          "output_type": "stream",
          "name": "stdout",
          "text": [
            "Enter first number:38\n",
            "Enter second number:4\n",
            "Division: 38.0 / 4.0 =9.5\n"
          ]
        }
      ]
    },
    {
      "cell_type": "markdown",
      "source": [
        "Write a program to find the are of a triangle."
      ],
      "metadata": {
        "id": "2IPp-s63FOVQ"
      }
    },
    {
      "cell_type": "code",
      "source": [
        "#Input the base and height from the user\n",
        "base= float(input(\"Enter the base of the triangle:\"))\n",
        "height= float(input(\"Enter the height of the triangle:\"))\n",
        "\n",
        "#Calculate the area of triangle\n",
        "area= 0.5*base*height\n",
        "\n",
        "#Display the area of triangle\n",
        "print(f\"The area of the triangle is: {area}\")"
      ],
      "metadata": {
        "colab": {
          "base_uri": "https://localhost:8080/"
        },
        "id": "KhGuNV55FVO1",
        "outputId": "78bc1a0a-420c-4c10-da5e-99b5caf2b2c3"
      },
      "execution_count": 4,
      "outputs": [
        {
          "output_type": "stream",
          "name": "stdout",
          "text": [
            "Enter the base of the triangle:23\n",
            "Enter the height of the triangle:45\n",
            "The area of the triangle is: 517.5\n"
          ]
        }
      ]
    },
    {
      "cell_type": "markdown",
      "source": [
        "Write a program to swap twp variables."
      ],
      "metadata": {
        "id": "-GbIp_wpGMKz"
      }
    },
    {
      "cell_type": "code",
      "source": [
        "#Input two variables\n",
        "a = input(\"Enter the value of a:\")\n",
        "b = input(\"Enter the value of b:\")\n",
        "\n",
        "#Display the original variables\n",
        "print(f\"Original value of a: {a}\")\n",
        "print(f\"Original value of b: {b}\")\n",
        "\n",
        "#Swap the variables\n",
        "temp = a\n",
        "a = b\n",
        "b = temp\n",
        "\n",
        "#Display the swapped variables\n",
        "print(f\"Swaped values: a={a}, b = {b}\")"
      ],
      "metadata": {
        "colab": {
          "base_uri": "https://localhost:8080/"
        },
        "id": "KRLLFbo3GSv-",
        "outputId": "04337952-6c5a-4301-8a2b-854aeb9a83df"
      },
      "execution_count": 5,
      "outputs": [
        {
          "output_type": "stream",
          "name": "stdout",
          "text": [
            "Enter the value of a:56\n",
            "Enter the value of b:78\n",
            "Original value of a: 56\n",
            "Original value of b: 78\n",
            "Swaped values: a=78, b = 56\n"
          ]
        }
      ]
    },
    {
      "cell_type": "markdown",
      "source": [
        "Write a program To generate a random number."
      ],
      "metadata": {
        "id": "NILMdb2_IUky"
      }
    },
    {
      "cell_type": "code",
      "source": [
        "import random\n",
        "\n",
        "#Generate a random number between 1 and 10000\n",
        "random_number = random.randint(1,10000)\n",
        "\n",
        "#Display the random number\n",
        "print(f\"Random number: {random_number}\")"
      ],
      "metadata": {
        "colab": {
          "base_uri": "https://localhost:8080/"
        },
        "id": "3UCgbzFpTsO9",
        "outputId": "0996439c-2978-45fb-f75e-327f29e76a63"
      },
      "execution_count": 7,
      "outputs": [
        {
          "output_type": "stream",
          "name": "stdout",
          "text": [
            "Random number: 6862\n"
          ]
        }
      ]
    },
    {
      "cell_type": "markdown",
      "source": [
        "write a program to convert kilometers to miles."
      ],
      "metadata": {
        "id": "B6_FBe5MT412"
      }
    },
    {
      "cell_type": "code",
      "source": [
        "kilometers = float(input(\"Enter distance in kilometers:\"))\n",
        "\n",
        "#Conversion factor| 1 Kilometers =  0.621371 miles\n",
        "conversion_factor = 0.621371\n",
        "\n",
        "#Calculate miles\n",
        "miles = kilometers * conversion_factor\n",
        "\n",
        "#Display result\n",
        "print(f\"{kilometers} kilometers is equal to {miles} miles\")"
      ],
      "metadata": {
        "colab": {
          "base_uri": "https://localhost:8080/"
        },
        "id": "U9O31g5eUB1L",
        "outputId": "c2ed9c7b-e875-4493-b720-2b3c5488d945"
      },
      "execution_count": 8,
      "outputs": [
        {
          "output_type": "stream",
          "name": "stdout",
          "text": [
            "Enter distance in kilometers:87\n",
            "87.0 kilometers is equal to 54.059277 miles\n"
          ]
        }
      ]
    }
  ]
}